{
 "cells": [
  {
   "cell_type": "markdown",
   "id": "7e0dc75c",
   "metadata": {},
   "source": [
    "# Matrix Math from Octave compared with Numpy"
   ]
  },
  {
   "cell_type": "markdown",
   "id": "20f6d2ac",
   "metadata": {},
   "source": [
    "## 2 Dimensional Array (Regular Matrices)"
   ]
  },
  {
   "cell_type": "markdown",
   "id": "2a0b706b",
   "metadata": {},
   "source": [
    "### Octave"
   ]
  },
  {
   "cell_type": "markdown",
   "id": "9df42d0b",
   "metadata": {},
   "source": [
    "x=[1,2,3; 4,5,6; 7,8,9]"
   ]
  },
  {
   "cell_type": "markdown",
   "id": "4839458b",
   "metadata": {},
   "source": [
    "y=[10,11,12; 13,14,15; 16,17,18]"
   ]
  },
  {
   "cell_type": "markdown",
   "id": "654b0520",
   "metadata": {},
   "source": [
    "x*y=[84,90,96; 201,216,231; 318,342,366]"
   ]
  },
  {
   "cell_type": "markdown",
   "id": "58bdbd68",
   "metadata": {},
   "source": [
    "### Numpy"
   ]
  },
  {
   "cell_type": "code",
   "execution_count": 1,
   "id": "74c13eb6",
   "metadata": {},
   "outputs": [],
   "source": [
    "import numpy as np\n",
    "from matplotlib import pyplot as plt"
   ]
  },
  {
   "cell_type": "code",
   "execution_count": 18,
   "id": "252e8076",
   "metadata": {},
   "outputs": [],
   "source": [
    "x=np.array([[1,2,3], [4,5,6], [7,8,9]])"
   ]
  },
  {
   "cell_type": "code",
   "execution_count": 20,
   "id": "756724ea",
   "metadata": {},
   "outputs": [],
   "source": [
    "y=np.array([[10,11,12], [13,14,15], [16,17,18]])"
   ]
  },
  {
   "cell_type": "code",
   "execution_count": 23,
   "id": "ea7fee1b",
   "metadata": {},
   "outputs": [
    {
     "data": {
      "text/plain": [
       "array([[ 84,  90,  96],\n",
       "       [201, 216, 231],\n",
       "       [318, 342, 366]])"
      ]
     },
     "execution_count": 23,
     "metadata": {},
     "output_type": "execute_result"
    }
   ],
   "source": [
    "np.matmul(x,y)"
   ]
  },
  {
   "cell_type": "markdown",
   "id": "6d763733",
   "metadata": {},
   "source": [
    "## 1 Dimensional Array (Vectors)"
   ]
  },
  {
   "cell_type": "markdown",
   "id": "68ea7d28",
   "metadata": {},
   "source": [
    "### Octave"
   ]
  },
  {
   "cell_type": "markdown",
   "id": "eb95f6f4",
   "metadata": {},
   "source": [
    "x1=[1,2,3,4,5]"
   ]
  },
  {
   "cell_type": "markdown",
   "id": "9ca137c6",
   "metadata": {},
   "source": [
    "x2=[1; 2; 3; 4; 5]"
   ]
  },
  {
   "cell_type": "markdown",
   "id": "0802372f",
   "metadata": {},
   "source": [
    "x2*x1=[1,2,3,4,5; 2,4,6,8,10; 3,6,9,12,15 ; 4,8,12,16,20; 5,10,15,20,25]"
   ]
  },
  {
   "cell_type": "markdown",
   "id": "afb63968",
   "metadata": {},
   "source": [
    "### Numpy"
   ]
  },
  {
   "cell_type": "code",
   "execution_count": 24,
   "id": "6255dc95",
   "metadata": {},
   "outputs": [],
   "source": [
    "x1=np.array([1,2,3,4,5])"
   ]
  },
  {
   "cell_type": "code",
   "execution_count": 31,
   "id": "6ad3840a",
   "metadata": {},
   "outputs": [
    {
     "data": {
      "text/plain": [
       "(5,)"
      ]
     },
     "execution_count": 31,
     "metadata": {},
     "output_type": "execute_result"
    }
   ],
   "source": [
    "x1.shape"
   ]
  },
  {
   "cell_type": "markdown",
   "id": "353065a6",
   "metadata": {},
   "source": [
    "We already encountered problems here. What I would think is a 1x5 vector was actually made as a 5x(nothing??)"
   ]
  },
  {
   "cell_type": "code",
   "execution_count": 32,
   "id": "6f95da9a",
   "metadata": {},
   "outputs": [
    {
     "data": {
      "text/plain": [
       "array([[1, 2, 3, 4, 5]])"
      ]
     },
     "execution_count": 32,
     "metadata": {},
     "output_type": "execute_result"
    }
   ],
   "source": [
    "x1.reshape(1,5)"
   ]
  },
  {
   "cell_type": "markdown",
   "id": "0c8b9716",
   "metadata": {},
   "source": [
    "After using the **reshape** function, I'll try and create my vector again with this format"
   ]
  },
  {
   "cell_type": "code",
   "execution_count": 33,
   "id": "a96e9be7",
   "metadata": {},
   "outputs": [],
   "source": [
    "x1_2=np.array([[1,2,3,4,5]])"
   ]
  },
  {
   "cell_type": "code",
   "execution_count": 34,
   "id": "e53a10bb",
   "metadata": {},
   "outputs": [
    {
     "data": {
      "text/plain": [
       "(1, 5)"
      ]
     },
     "execution_count": 34,
     "metadata": {},
     "output_type": "execute_result"
    }
   ],
   "source": [
    "x1_2.shape"
   ]
  },
  {
   "cell_type": "markdown",
   "id": "ab8cbc45",
   "metadata": {},
   "source": [
    "And it did work. Now let's try the x2 vector."
   ]
  },
  {
   "cell_type": "code",
   "execution_count": 35,
   "id": "e5383fe3",
   "metadata": {},
   "outputs": [],
   "source": [
    "x2=np.array([[1],[2],[3],[4],[5]])"
   ]
  },
  {
   "cell_type": "code",
   "execution_count": 36,
   "id": "fcaa09df",
   "metadata": {},
   "outputs": [
    {
     "data": {
      "text/plain": [
       "(5, 1)"
      ]
     },
     "execution_count": 36,
     "metadata": {},
     "output_type": "execute_result"
    }
   ],
   "source": [
    "x2.shape"
   ]
  },
  {
   "cell_type": "markdown",
   "id": "00545a25",
   "metadata": {},
   "source": [
    "First try and it worked. Now let's do the matrix creation test."
   ]
  },
  {
   "cell_type": "code",
   "execution_count": 37,
   "id": "813405e2",
   "metadata": {},
   "outputs": [
    {
     "data": {
      "text/plain": [
       "array([[ 1,  2,  3,  4,  5],\n",
       "       [ 2,  4,  6,  8, 10],\n",
       "       [ 3,  6,  9, 12, 15],\n",
       "       [ 4,  8, 12, 16, 20],\n",
       "       [ 5, 10, 15, 20, 25]])"
      ]
     },
     "execution_count": 37,
     "metadata": {},
     "output_type": "execute_result"
    }
   ],
   "source": [
    "np.matmul(x2,x1_2)"
   ]
  },
  {
   "cell_type": "markdown",
   "id": "995da6ae",
   "metadata": {},
   "source": [
    "That worked great."
   ]
  },
  {
   "cell_type": "markdown",
   "id": "76559c61",
   "metadata": {},
   "source": [
    "# Difference between [[1]] and [1]"
   ]
  },
  {
   "cell_type": "markdown",
   "id": "822ccf15",
   "metadata": {},
   "source": [
    "Now what's bothering me is the difference between the array created before the reshaping and after. Let's try to figure it out."
   ]
  },
  {
   "cell_type": "code",
   "execution_count": 38,
   "id": "19837c80",
   "metadata": {},
   "outputs": [],
   "source": [
    "t=np.array([1,2,3,4,5])"
   ]
  },
  {
   "cell_type": "code",
   "execution_count": 39,
   "id": "312de408",
   "metadata": {},
   "outputs": [],
   "source": [
    "u=np.array([[1,2,3,4,5]])"
   ]
  },
  {
   "cell_type": "markdown",
   "id": "9509a3fe",
   "metadata": {},
   "source": [
    "They appear to be very similar. Let's check out the shape. "
   ]
  },
  {
   "cell_type": "code",
   "execution_count": 41,
   "id": "e543030c",
   "metadata": {},
   "outputs": [
    {
     "data": {
      "text/plain": [
       "(5,)"
      ]
     },
     "execution_count": 41,
     "metadata": {},
     "output_type": "execute_result"
    }
   ],
   "source": [
    "t.shape"
   ]
  },
  {
   "cell_type": "code",
   "execution_count": 42,
   "id": "c8496799",
   "metadata": {},
   "outputs": [
    {
     "data": {
      "text/plain": [
       "(1, 5)"
      ]
     },
     "execution_count": 42,
     "metadata": {},
     "output_type": "execute_result"
    }
   ],
   "source": [
    "u.shape"
   ]
  },
  {
   "cell_type": "markdown",
   "id": "fd265fb2",
   "metadata": {},
   "source": [
    "They are very different. Why numpy considers a simple array as having only one dimension and why the numbers are arranged in the \"rows\" instead of \"columns\"??? "
   ]
  },
  {
   "cell_type": "markdown",
   "id": "cc8dd605",
   "metadata": {},
   "source": [
    "But it becomes more weird:"
   ]
  },
  {
   "cell_type": "code",
   "execution_count": 43,
   "id": "da94a26a",
   "metadata": {},
   "outputs": [
    {
     "data": {
      "text/plain": [
       "array([[ True,  True,  True,  True,  True]])"
      ]
     },
     "execution_count": 43,
     "metadata": {},
     "output_type": "execute_result"
    }
   ],
   "source": [
    "t == u"
   ]
  },
  {
   "cell_type": "markdown",
   "id": "ef786ed4",
   "metadata": {},
   "source": [
    "Why the fuck a comparison renders all the elements as the same??"
   ]
  },
  {
   "cell_type": "markdown",
   "id": "d8392dfc",
   "metadata": {},
   "source": [
    "And again it becomes more weird:"
   ]
  },
  {
   "cell_type": "code",
   "execution_count": 52,
   "id": "fe7a1eaf",
   "metadata": {},
   "outputs": [
    {
     "data": {
      "text/plain": [
       "(5,)"
      ]
     },
     "execution_count": 52,
     "metadata": {},
     "output_type": "execute_result"
    }
   ],
   "source": [
    "x1.shape"
   ]
  },
  {
   "cell_type": "code",
   "execution_count": 53,
   "id": "230a5c50",
   "metadata": {},
   "outputs": [
    {
     "data": {
      "text/plain": [
       "(5, 1)"
      ]
     },
     "execution_count": 53,
     "metadata": {},
     "output_type": "execute_result"
    }
   ],
   "source": [
    "x2.shape"
   ]
  },
  {
   "cell_type": "code",
   "execution_count": 51,
   "id": "43256199",
   "metadata": {},
   "outputs": [
    {
     "data": {
      "text/plain": [
       "array([[ True, False, False, False, False],\n",
       "       [False,  True, False, False, False],\n",
       "       [False, False,  True, False, False],\n",
       "       [False, False, False,  True, False],\n",
       "       [False, False, False, False,  True]])"
      ]
     },
     "execution_count": 51,
     "metadata": {},
     "output_type": "execute_result"
    }
   ],
   "source": [
    "x1 == x2"
   ]
  },
  {
   "cell_type": "markdown",
   "id": "f285f77c",
   "metadata": {},
   "source": [
    "Wuuut.......???"
   ]
  },
  {
   "cell_type": "markdown",
   "id": "8ced582c",
   "metadata": {},
   "source": [
    "Maybe comparisons like these doen't make sense in python/numpy"
   ]
  },
  {
   "cell_type": "markdown",
   "id": "b4bac185",
   "metadata": {},
   "source": [
    "Trying again with the **array_equal** function"
   ]
  },
  {
   "cell_type": "code",
   "execution_count": 54,
   "id": "50958152",
   "metadata": {},
   "outputs": [
    {
     "data": {
      "text/plain": [
       "False"
      ]
     },
     "execution_count": 54,
     "metadata": {},
     "output_type": "execute_result"
    }
   ],
   "source": [
    "np.array_equal(x1,x2)"
   ]
  },
  {
   "cell_type": "code",
   "execution_count": 55,
   "id": "a24fffcd",
   "metadata": {},
   "outputs": [
    {
     "data": {
      "text/plain": [
       "True"
      ]
     },
     "execution_count": 55,
     "metadata": {},
     "output_type": "execute_result"
    }
   ],
   "source": [
    "np.array_equal(x1.reshape(5,1),x2)"
   ]
  },
  {
   "cell_type": "code",
   "execution_count": 56,
   "id": "0003ab9b",
   "metadata": {},
   "outputs": [
    {
     "data": {
      "text/plain": [
       "array([[ True],\n",
       "       [ True],\n",
       "       [ True],\n",
       "       [ True],\n",
       "       [ True]])"
      ]
     },
     "execution_count": 56,
     "metadata": {},
     "output_type": "execute_result"
    }
   ],
   "source": [
    "x1.reshape(5,1) == x2"
   ]
  },
  {
   "cell_type": "markdown",
   "id": "5ac3bef8",
   "metadata": {},
   "source": [
    "The problem is that I don't know exacly what the problem is..."
   ]
  },
  {
   "cell_type": "markdown",
   "id": "5c3967ae",
   "metadata": {},
   "source": [
    "## 1D vs. 2D"
   ]
  },
  {
   "cell_type": "markdown",
   "id": "bac8d47b",
   "metadata": {},
   "source": [
    "The difference is that I'm thinking about linear algebra, which most of the applications are in 2 or 3 dimensional space. "
   ]
  },
  {
   "cell_type": "markdown",
   "id": "6e71cce2",
   "metadata": {},
   "source": [
    "The first vector (x1) is a 1D vector, which can be represented on a line. The second vector (x1_2) is a two dimensional vector, which can be represented on a plane(?)"
   ]
  },
  {
   "cell_type": "code",
   "execution_count": 57,
   "id": "a2a803af",
   "metadata": {},
   "outputs": [
    {
     "data": {
      "text/plain": [
       "1"
      ]
     },
     "execution_count": 57,
     "metadata": {},
     "output_type": "execute_result"
    }
   ],
   "source": [
    "x1.ndim"
   ]
  },
  {
   "cell_type": "code",
   "execution_count": 58,
   "id": "feee5083",
   "metadata": {},
   "outputs": [
    {
     "data": {
      "text/plain": [
       "2"
      ]
     },
     "execution_count": 58,
     "metadata": {},
     "output_type": "execute_result"
    }
   ],
   "source": [
    "x1_2.ndim"
   ]
  },
  {
   "cell_type": "markdown",
   "id": "344744e9",
   "metadata": {},
   "source": [
    "Now the question becomes, how a five element vector belongs to R2?"
   ]
  },
  {
   "cell_type": "markdown",
   "id": "69667b8d",
   "metadata": {},
   "source": [
    "# Geometrical View of Vectors"
   ]
  },
  {
   "cell_type": "code",
   "execution_count": 37,
   "id": "b2603d64",
   "metadata": {},
   "outputs": [],
   "source": [
    "i=np.array([[1, 0]])\n",
    "j=np.array([[0, 1]])"
   ]
  },
  {
   "cell_type": "code",
   "execution_count": 38,
   "id": "ea95037b",
   "metadata": {},
   "outputs": [],
   "source": [
    "a=np.array([[5, 3]])"
   ]
  },
  {
   "cell_type": "code",
   "execution_count": 62,
   "id": "0d1285c8",
   "metadata": {},
   "outputs": [
    {
     "data": {
      "text/plain": [
       "<matplotlib.quiver.Quiver at 0x7f87efe3bd00>"
      ]
     },
     "execution_count": 62,
     "metadata": {},
     "output_type": "execute_result"
    },
    {
     "data": {
      "image/png": "[encoded data removed]",
      "text/plain": [
       "<Figure size 432x288 with 1 Axes>"
      ]
     },
     "metadata": {
      "needs_background": "light"
     },
     "output_type": "display_data"
    }
   ],
   "source": [
    "ax=plt.subplot()\n",
    "ax.set(xlim=[0,6], ylim=[0,4])\n",
    "ax.quiver(np.array([1]), np.array([0]), color='red')"
   ]
  },
  {
   "cell_type": "code",
   "execution_count": 50,
   "id": "43d174c0",
   "metadata": {},
   "outputs": [
    {
     "data": {
      "text/plain": [
       "(-5.0, 5.0)"
      ]
     },
     "execution_count": 50,
     "metadata": {},
     "output_type": "execute_result"
    },
    {
     "data": {
      "image/png": "[encoded data removed]",
      "text/plain": [
       "<Figure size 432x288 with 1 Axes>"
      ]
     },
     "metadata": {
      "needs_background": "light"
     },
     "output_type": "display_data"
    }
   ],
   "source": [
    "import matplotlib.pyplot as plt\n",
    "import numpy as np\n",
    "\n",
    "# X = np.array((0))\n",
    "# Y= np.array((0))\n",
    "# U = np.array((2))\n",
    "# V = np.array((-2))\n",
    "\n",
    "fig, ax = plt.subplots()\n",
    "q = ax.quiver(0, 0, 2, -2,units='xy' ,scale=1)\n",
    "\n",
    "# plt.grid()\n",
    "\n",
    "# ax.set_aspect('equal')\n",
    "\n",
    "plt.xlim(-5,5)\n",
    "plt.ylim(-5,5)"
   ]
  },
  {
   "cell_type": "markdown",
   "id": "1b5c1382",
   "metadata": {},
   "source": [
    "# Geometrical View of Vectors"
   ]
  },
  {
   "cell_type": "code",
   "execution_count": 218,
   "id": "0fdf595f",
   "metadata": {
    "scrolled": true
   },
   "outputs": [
    {
     "data": {
      "image/png": "[encoded data removed]",
      "text/plain": [
       "<Figure size 432x288 with 1 Axes>"
      ]
     },
     "metadata": {
      "needs_background": "light"
     },
     "output_type": "display_data"
    }
   ],
   "source": [
    "# Import libraries\n",
    "import numpy as np\n",
    "import matplotlib.pyplot as plt\n",
    "\n",
    "# Creating plot\n",
    "ax=plt.subplot()\n",
    "\n",
    "# Defining i-hat and j-hat, basis of the system\n",
    "v1=np.array([[1], [0]])\n",
    "v2=np.array([[0], [1]])\n",
    "\n",
    "# Multiplication of basis vectors by scalars\n",
    "v3=5*v1\n",
    "v4=3*v2\n",
    "\n",
    "# Sum of vectors\n",
    "v5=v3+v4\n",
    "\n",
    "# Defining Origin\n",
    "origin=[[0], [0]]\n",
    "\n",
    "# Plotting Vectors\n",
    "ax.quiver(*origin, *v3, color='blue', units='xy', scale=1)\n",
    "ax.quiver(*origin, *v4, color='red', units='xy', scale=1)\n",
    "ax.quiver(*origin, *v5, color='purple', units='xy', scale=1)\n",
    "ax.quiver(*origin, *v1, color='black', units='xy', scale=1)\n",
    "ax.quiver(*origin, *v2, color='black', units='xy', scale=1)\n",
    "\n",
    "# Plotting Target\n",
    "ax.scatter(5,3, color='purple')\n",
    "\n",
    "# Plotting vector names and operations\n",
    "plt.text(0.8, 0.1, r'$\\hat{i}$', fontsize=12)\n",
    "plt.text(0.1, 0.7, r'$\\hat{j}$', fontsize=12)\n",
    "plt.text(4.5, 0.1, r'$5\\hat{i}$', fontsize=12, color='blue')\n",
    "plt.text(0.1, 2.6, r'$3\\hat{j}$', fontsize=12, color='red')\n",
    "plt.text(3.5, 2.6, r'$5\\hat{i}+3\\hat{j}$', fontsize=12, color='purple')\n",
    "\n",
    "# Plot configs\n",
    "plt.title('Vector Addition')\n",
    "plt.xlim(-0.2, 5.5)\n",
    "plt.ylim(-0.2, 3.5)\n",
    "plt.grid()\n",
    "ax.set_axisbelow(True)\n",
    "plt.gca().set_aspect('equal')\n",
    "plt.savefig('VectorAddition.png', transparent='True')"
   ]
  },
  {
   "cell_type": "markdown",
   "id": "18118f1d",
   "metadata": {},
   "source": [
    "Plot bellow only works with positive numbers, problems with the geometry approach of calculating the scalars"
   ]
  },
  {
   "cell_type": "code",
   "execution_count": 222,
   "id": "09113834",
   "metadata": {},
   "outputs": [
    {
     "data": {
      "image/png": "[encoded data removed]",
      "text/plain": [
       "<Figure size 432x288 with 1 Axes>"
      ]
     },
     "metadata": {
      "needs_background": "light"
     },
     "output_type": "display_data"
    }
   ],
   "source": [
    "# Target point\n",
    "target=np.array([[5], [2]])\n",
    "\n",
    "# Offset angle\n",
    "angle=15\n",
    "ang=np.radians(angle)\n",
    "\n",
    "# Basis Vectors for the original system\n",
    "ux=np.array([[1], [0]])\n",
    "uy=np.array([[0], [1]])\n",
    "\n",
    "# Definition of the new basis vectors (original offset by 15 degrees):\n",
    "v1=np.sin(ang)*ux+np.cos(ang)*uy\n",
    "v2=np.cos(-ang)*ux+np.sin(-ang)*uy\n",
    "\n",
    "# Geometry based solution to finding new scalars\n",
    "remain_angle=np.radians(90-angle)-np.arctan(target[1][0]/target[0][0])\n",
    "hypotenuse=np.sqrt(target[1][0]**2+target[0][0]**2)\n",
    "a=np.cos(remain_angle)*hypotenuse\n",
    "b=np.sin(remain_angle)*hypotenuse\n",
    "\n",
    "# Multiplication of basis vectors of this current system by scalars\n",
    "v3=a*v1\n",
    "v4=b*v2\n",
    "\n",
    "# Sum of vectors\n",
    "v5=v3+v4\n",
    "\n",
    "# Defining Origin\n",
    "origin=[[0], [0]]\n",
    "\n",
    "# Creating plot\n",
    "ax=plt.subplot()\n",
    "\n",
    "# Plotting Vectors\n",
    "ax.quiver(*origin, *v3, color='blue', units='xy', scale=1)\n",
    "ax.quiver(*origin, *v4, color='red', units='xy', scale=1)\n",
    "ax.quiver(*origin, *v5, color='purple', units='xy', scale=1)\n",
    "ax.quiver(*origin, *v1, color='black', units='xy', scale=1)\n",
    "ax.quiver(*origin, *v2, color='black', units='xy', scale=1)\n",
    "\n",
    "# Plotting Target\n",
    "ax.scatter(target[0][0], target[1][0], color='purple')\n",
    "\n",
    "# Plotting the other vector but with the origin on the end of the vector\n",
    "ax.plot([v3[0][0], target[0][0]], [v3[1][0], target[1][0]], color='red', linestyle='--', linewidth=1)\n",
    "ax.plot([v4[0][0], target[0][0]], [v4[1][0], target[1][0]], color='blue', linestyle='--', linewidth=1)\n",
    "\n",
    "# Plot configs\n",
    "plt.title('Vector Addition, Coordinate system offset by $'+str(angle)+'^\\circ$')\n",
    "plt.xlim(-1.5, 7)\n",
    "plt.ylim(-1.2, 3.3)\n",
    "plt.grid()\n",
    "ax.set_axisbelow(True)\n",
    "plt.gca().set_aspect('equal')\n",
    "# plt.axis('equal');  -> Don't know why this does not work\n",
    "plt.savefig('VectorAddition2.png', transparent='True')"
   ]
  }
 ],
 "metadata": {
  "kernelspec": {
   "display_name": "Python 3 (ipykernel)",
   "language": "python",
   "name": "python3"
  },
  "language_info": {
   "codemirror_mode": {
    "name": "ipython",
    "version": 3
   },
   "file_extension": ".py",
   "mimetype": "text/x-python",
   "name": "python",
   "nbconvert_exporter": "python",
   "pygments_lexer": "ipython3",
   "version": "3.9.7"
  }
 },
 "nbformat": 4,
 "nbformat_minor": 5
}
