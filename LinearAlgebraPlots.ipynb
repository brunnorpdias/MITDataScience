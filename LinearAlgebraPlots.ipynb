{
 "cells": [
  {
   "cell_type": "markdown",
   "id": "69667b8d",
   "metadata": {},
   "source": [
    "# Geometrical View of Vectors"
   ]
  },
  {
   "cell_type": "markdown",
   "id": "6b339b34",
   "metadata": {},
   "source": [
    "## Packages"
   ]
  },
  {
   "cell_type": "code",
   "execution_count": 2,
   "id": "7434d78f",
   "metadata": {},
   "outputs": [],
   "source": [
    "import numpy as np\n",
    "import matplotlib.pyplot as plt\n",
    "from __future__ import print_function\n",
    "from ipywidgets import interact, interactive, fixed, interact_manual\n",
    "import ipywidgets as widgets\n",
    "from IPython.display import display"
   ]
  },
  {
   "cell_type": "markdown",
   "id": "eebf1e46",
   "metadata": {},
   "source": [
    "## Vector in 2D Space"
   ]
  },
  {
   "cell_type": "code",
   "execution_count": 140,
   "id": "0d1285c8",
   "metadata": {},
   "outputs": [
    {
     "data": {
      "image/png": "[encoded data removed]",
      "text/plain": [
       "<Figure size 432x288 with 1 Axes>"
      ]
     },
     "metadata": {
      "needs_background": "light"
     },
     "output_type": "display_data"
    }
   ],
   "source": [
    "origin=np.array([[0], [0]])\n",
    "i=np.array([[1], [0]])\n",
    "j=np.array([[0], [1]])\n",
    "a=np.array([[5], [3]])\n",
    "\n",
    "ax=plt.subplot()\n",
    "\n",
    "ax.quiver(*origin, *a, color='green', units='xy', scale=1)\n",
    "ax.quiver(*origin, *j, color='black', units='xy', scale=1)\n",
    "ax.quiver(*origin, *i, color='black', units='xy', scale=1)\n",
    "\n",
    "ax.set(xlim=[-0.25,6], ylim=[-0.25,4])\n",
    "ax.set_axisbelow(True)\n",
    "plt.gca().set_aspect('equal')\n",
    "plt.grid()\n",
    "# plt.savefig('Vector2.png', transparent='True', dpi=250)"
   ]
  },
  {
   "cell_type": "markdown",
   "id": "1b5c1382",
   "metadata": {},
   "source": [
    "## Construction of vector using basis vectors"
   ]
  },
  {
   "cell_type": "code",
   "execution_count": 6,
   "id": "0fdf595f",
   "metadata": {
    "scrolled": true
   },
   "outputs": [
    {
     "data": {
      "image/png": "[encoded data removed]",
      "text/plain": [
       "<Figure size 432x288 with 1 Axes>"
      ]
     },
     "metadata": {
      "needs_background": "light"
     },
     "output_type": "display_data"
    }
   ],
   "source": [
    "# Import libraries\n",
    "import numpy as np\n",
    "import matplotlib.pyplot as plt\n",
    "\n",
    "# Creating plot\n",
    "ax=plt.subplot()\n",
    "\n",
    "# Defining i-hat and j-hat, basis of the system\n",
    "v1=np.array([[1], [0]])\n",
    "v2=np.array([[0], [1]])\n",
    "\n",
    "# Multiplication of basis vectors by scalars\n",
    "v3=5*v1\n",
    "v4=3*v2\n",
    "\n",
    "# Sum of vectors\n",
    "v5=v3+v4\n",
    "\n",
    "# Defining Origin\n",
    "origin=[[0], [0]]\n",
    "\n",
    "# Plotting Vectors\n",
    "ax.quiver(*origin, *v3, color='blue', units='xy', scale=1)\n",
    "ax.quiver(*origin, *v4, color='red', units='xy', scale=1)\n",
    "ax.quiver(*origin, *v5, color='purple', units='xy', scale=1)\n",
    "ax.quiver(*origin, *v1, color='black', units='xy', scale=1)\n",
    "ax.quiver(*origin, *v2, color='black', units='xy', scale=1)\n",
    "\n",
    "# Plotting Target\n",
    "ax.scatter(5,3, color='purple')\n",
    "\n",
    "# Plotting vector names and operations\n",
    "plt.text(0.8, 0.1, r'$\\hat{i}$', fontsize=12)\n",
    "plt.text(0.1, 0.7, r'$\\hat{j}$', fontsize=12)\n",
    "plt.text(4.5, 0.1, r'$5\\hat{i}$', fontsize=12, color='blue')\n",
    "plt.text(0.1, 2.6, r'$3\\hat{j}$', fontsize=12, color='red')\n",
    "plt.text(3.5, 2.6, r'$5\\hat{i}+3\\hat{j}$', fontsize=12, color='purple')\n",
    "\n",
    "# Plot configs\n",
    "plt.title('Vector Addition')\n",
    "plt.xlim(-0.2, 5.5)\n",
    "plt.ylim(-0.2, 3.5)\n",
    "plt.grid()\n",
    "ax.set_axisbelow(True)\n",
    "plt.gca().set_aspect('equal')\n",
    "# plt.savefig('VectorAddition2.png', transparent='True', dpi=200)"
   ]
  },
  {
   "cell_type": "markdown",
   "id": "73551704",
   "metadata": {},
   "source": [
    "# Interactive Plot for Angle Offset Coordinate System"
   ]
  },
  {
   "cell_type": "markdown",
   "id": "abb17c46",
   "metadata": {},
   "source": [
    "## Plot Function"
   ]
  },
  {
   "cell_type": "code",
   "execution_count": 3,
   "id": "17eaaf1b",
   "metadata": {},
   "outputs": [],
   "source": [
    "# Class for the Vectors\n",
    "class Vectors(object):\n",
    "    \n",
    "    def __init__(self, x=None, y=None, array=None):\n",
    "        \n",
    "        if x == None and y == None:\n",
    "            self.array=array\n",
    "            self.i=array[0][0]\n",
    "            self.j=array[1][0]\n",
    "        else:\n",
    "            self.array=np.array([[x], [y]])\n",
    "            self.i=x\n",
    "            self.j=y"
   ]
  },
  {
   "cell_type": "code",
   "execution_count": 8,
   "id": "761c8136",
   "metadata": {},
   "outputs": [
    {
     "data": {
      "application/vnd.jupyter.widget-view+json": {
       "model_id": "44c5ba9493c24e4c8a7024ef74ec4404",
       "version_major": 2,
       "version_minor": 0
      },
      "text/plain": [
       "interactive(children=(Checkbox(value=False, description='Vector $\\\\hat w$ at the base of $\\\\hat v$', indent=Fa…"
      ]
     },
     "metadata": {},
     "output_type": "display_data"
    }
   ],
   "source": [
    "# Basis Vectors for the original system\n",
    "ux=Vectors(1, 0)\n",
    "uy=Vectors(0, 1)\n",
    "\n",
    "# Create Plot\n",
    "def update_plot(vector_on_vector, target_x, target_y, offset_angle):\n",
    "    \n",
    "    ang=np.radians(-offset_angle) # minus sign to change the direction accordingly with trigonometry \n",
    "    \n",
    "    # Definition of the new basis vectors (with angle offset):\n",
    "    v_hat = Vectors(array=np.cos(-ang)*ux.array + np.sin(-ang)*uy.array)\n",
    "    w_hat = Vectors(array=np.sin(ang)*ux.array + np.cos(ang)*uy.array)\n",
    "    \n",
    "    # Old Geometric based solution to finding new scalars\n",
    "    # remain_angle=np.radians(90-angle)-np.arctan(target[1][0]/target[0][0])\n",
    "    # hypotenuse=np.sqrt(target[1][0]**2+target[0][0]**2)\n",
    "    # a=np.cos(remain_angle)*hypotenuse\n",
    "    # b=np.sin(remain_angle)*hypotenuse\n",
    "\n",
    "    #Algebraic Solution to finding the scalars of the basis vectors\n",
    "    if np.sin(-ang) == 0:\n",
    "        a=target_y\n",
    "    else:\n",
    "        a=(target_x+target_y*(-v_hat.i/v_hat.j))/(w_hat.i-w_hat.j*v_hat.i/v_hat.j)\n",
    "        \n",
    "    if abs(np.sin(-ang)) == 1:\n",
    "        b=target_y*np.sin(-ang)\n",
    "    else:\n",
    "        b=(target_x-a*w_hat.i)/v_hat.i\n",
    "\n",
    "    # Multiplication of basis vectors of this current system by scalars\n",
    "    v1= Vectors(array=b*v_hat.array)\n",
    "    v2= Vectors(array=a*w_hat.array)\n",
    "\n",
    "    # Sum of vectors\n",
    "    v3= Vectors(array=v1.array+v2.array)\n",
    "\n",
    "    # Defining Origin\n",
    "    origin=[[0], [0]]\n",
    "    \n",
    "    # Creating plot\n",
    "    ax=plt.subplot()\n",
    "\n",
    "    # Plotting Vectors\n",
    "    ax.quiver(*origin, *v1.array, color='blue', units='xy', scale=1)\n",
    "    \n",
    "    if vector_on_vector:\n",
    "        ax.quiver(*v1.array, *v2.array, color='red', units='xy', scale=1)\n",
    "    else:\n",
    "        ax.quiver(*origin, *v2.array, color='red', units='xy', scale=1)\n",
    "        # Plotting line guides for orthogonal vectors\n",
    "        ax.plot([v1.i, target_x], [v1.j, target_y], color='gray', linestyle='--', linewidth=1)\n",
    "        ax.plot([v2.i, target_x], [v2.j, target_y], color='gray', linestyle='--', linewidth=1)\n",
    "\n",
    "    \n",
    "    ax.quiver(*origin, *v3.array, color='purple', units='xy', scale=1)\n",
    "    ax.quiver(*origin, *w_hat.array, color='black', units='xy', scale=1)\n",
    "    ax.quiver(*origin, *v_hat.array, color='black', units='xy', scale=1)\n",
    "\n",
    "    # Plotting Target\n",
    "    ax.scatter(target_x, target_y, color='purple')\n",
    "\n",
    "    # Plot configs\n",
    "    plt.title('Vector Addition, Coordinate system offset by $'+str(offset_angle)+'^\\circ$')\n",
    "    plt.xlim(-8, 8)\n",
    "    plt.ylim(-5, 5)\n",
    "    ax.set_axisbelow(True)\n",
    "    plt.grid()\n",
    "    plt.gca().set_aspect('equal')\n",
    "    # plt.axis('equal');  -> Don't know why this does not work\n",
    "    plt.show()\n",
    "    # plt.savefig('VectorAddition2.png', transparent='True', dpi=200)\n",
    "\n",
    "# Slider Widget Setup\n",
    "vector_on_vector=widgets.Checkbox(value=False, indent=False, description='Vector $\\hat w$ at the base of $\\hat v$')\n",
    "target_x=widgets.FloatSlider(min=-5, max=5, step=0.5, value=5, description='Target on x:')\n",
    "target_y=widgets.FloatSlider(min=-5, max=5, step=0.5, value=2, description='Target on y:')\n",
    "offset_angle=widgets.IntSlider(min=-180, max=180, step=10, value=0, description='Offset angle:')\n",
    "\n",
    "# Interactive Function between graph plot function and the widgets\n",
    "interactive(update_plot, vector_on_vector=vector_on_vector, target_x=target_x, target_y=target_y, offset_angle=offset_angle)"
   ]
  },
  {
   "cell_type": "markdown",
   "id": "6df8fa42",
   "metadata": {},
   "source": [
    "# Linear Transformations"
   ]
  },
  {
   "cell_type": "markdown",
   "id": "00fb8668",
   "metadata": {},
   "source": [
    "## Linear Transformation of a Vector"
   ]
  },
  {
   "cell_type": "code",
   "execution_count": 137,
   "id": "1d0db72c",
   "metadata": {},
   "outputs": [
    {
     "data": {
      "image/png": "[encoded data removed]",
      "text/plain": [
       "<Figure size 432x288 with 1 Axes>"
      ]
     },
     "metadata": {
      "needs_background": "light"
     },
     "output_type": "display_data"
    }
   ],
   "source": [
    "origin=Vectors(0, 0)\n",
    "ihat=Vectors(1, 0)\n",
    "jhat=Vectors(0, 1)\n",
    "v=Vectors(-2, 2)\n",
    "\n",
    "matrix=np.array([[1, 0], [0, 1]]).transpose()\n",
    "vT=Vectors(array=np.dot(matrix, v.array))\n",
    "iT=Vectors(array=np.dot(matrix, ihat.array))\n",
    "jT=Vectors(array=np.dot(matrix, jhat.array))\n",
    "\n",
    "vTx=Vectors(array=iT.array*v.i)\n",
    "vTy=Vectors(array=jT.array*v.j)\n",
    "\n",
    "ax=plt.subplot()\n",
    "\n",
    "for i in x:\n",
    "    x_i, y_i=np.matmul(matrix, np.array([[i, i], [min_y, max_y]]))\n",
    "    ax.plot(x_i, y_i, color='gray', linewidth=0.25, zorder=0)\n",
    "    for j in y:\n",
    "        x_j, y_j=np.matmul(matrix, np.array([[min_x, max_x], [j, j]]))\n",
    "        ax.plot(x_j, y_j, color='lightgray', linewidth=0.1, zorder=1)\n",
    "\n",
    "ax.quiver(*origin.array, *v.array, color='green', units='xy', scale=1, zorder=2)\n",
    "ax.quiver(*origin.array, *ihat.array, color='black', units='xy', scale=1, zorder=6)\n",
    "ax.quiver(*origin.array, *jhat.array, color='black', units='xy', scale=1, zorder=7)\n",
    "\n",
    "\n",
    "ax.text(*v.array-0.35, r'$\\hat v$', size=13, color='green')\n",
    "ax.text(*ihat.array+0.15, r'$\\hat i$', size=13, color='black')\n",
    "ax.text(*jhat.array+0.15, r'$\\hat j$', size=13, color='black')\n",
    "\n",
    "x=np.arange(-6, 10, 1)\n",
    "y=np.arange(-8, 9, 1)\n",
    "max_x=max(x)\n",
    "min_x=min(x)\n",
    "max_y=max(y)\n",
    "min_y=min(y)\n",
    "\n",
    "plt.xlim([-3, 7.75])\n",
    "plt.ylim([-2, 4])\n",
    "ax.set_axisbelow(True)\n",
    "plt.gca().set_aspect('equal')\n",
    "# plt.savefig('BeforeLinTrans2.png', dpi=250, transparent=True)"
   ]
  },
  {
   "cell_type": "code",
   "execution_count": 37,
   "id": "1c2f0a67",
   "metadata": {},
   "outputs": [
    {
     "data": {
      "image/png": "[encoded data removed]",
      "text/plain": [
       "<Figure size 432x288 with 1 Axes>"
      ]
     },
     "metadata": {
      "needs_background": "light"
     },
     "output_type": "display_data"
    }
   ],
   "source": [
    "origin=Vectors(0, 0)\n",
    "i=Vectors(1, 0)\n",
    "j=Vectors(0, 1)\n",
    "v=Vectors(-2, 2)\n",
    "\n",
    "matrix=np.array([[1, -1.5], [3, 0]]).transpose()\n",
    "\n",
    "x=np.arange(-6, 10, 1)\n",
    "y=np.arange(-8, 9, 1)\n",
    "\n",
    "vT=Vectors(array=np.dot(matrix, v.array))\n",
    "iT=Vectors(array=np.dot(matrix, i.array))\n",
    "jT=Vectors(array=np.dot(matrix, j.array))\n",
    "\n",
    "vTx=Vectors(array=iT.array*v.i)\n",
    "vTy=Vectors(array=jT.array*v.j)\n",
    "\n",
    "ax=plt.subplot()\n",
    "\n",
    "for i in x:\n",
    "    x_i, y_i=np.matmul(matrix, np.array([[i, i], [min(y), max(y)]]))\n",
    "    ax.plot(x_i, y_i, color='gray', linewidth=0.25, zorder=0)\n",
    "    \n",
    "    for j in y:\n",
    "        x_j, y_j=np.matmul(matrix, np.array([[min(x), max(x)], [j, j]]))\n",
    "        ax.plot(x_j, y_j, color='lightgray', linewidth=0.1, zorder=1)\n",
    "\n",
    "ax.quiver(*origin.array, *v.array, color='green', units='xy', scale=1, zorder=2)\n",
    "ax.quiver(*origin.array, *vT.array, color='purple', units='xy', scale=1, zorder=3)\n",
    "ax.quiver(*origin.array, *vTx.array, color='gray', units='xy', scale=1, zorder=4)\n",
    "ax.quiver(*origin.array, *vTy.array, color='gray', units='xy', scale=1, zorder=5)\n",
    "ax.quiver(*origin.array, *iT.array, color='black', units='xy', scale=1, zorder=6)\n",
    "ax.quiver(*origin.array, *jT.array, color='black', units='xy', scale=1, zorder=7)\n",
    "\n",
    "ax.plot([vTx.i, vT.i], [vTx.j, vT.j], color='gray', linestyle='dashed')\n",
    "ax.plot([vTy.i, vT.i], [vTy.j, vT.j], color='gray', linestyle='dashed')\n",
    "\n",
    "ax.text(*v.array-0.35, r'$\\hat v$', size=13, color='green')\n",
    "ax.text(*iT.array+0.15, r'$\\hat i_T$', size=13, color='black')\n",
    "ax.text(*jT.array+0.15, r'$\\hat j_T$', size=13, color='black')\n",
    "ax.text(*vTx.array+0.15, r'$\\hat i_T* \\vec v_i$', size=13, color='gray')\n",
    "ax.text(*vTy.array+0.15, r'$\\hat j_T* \\vec v_j$', size=13, color='gray')\n",
    "ax.text(*vT.array+0.15, r'$\\vec v_T$', size=13, color='purple')\n",
    "\n",
    "plt.xlim([-3, 7.75])\n",
    "plt.ylim([-2, 4])\n",
    "ax.set_axisbelow(True)\n",
    "plt.gca().set_aspect('equal')\n",
    "# plt.savefig('AfterLinTrans2.png', dpi=250, transparent=True)"
   ]
  },
  {
   "cell_type": "markdown",
   "id": "313a36d8",
   "metadata": {},
   "source": [
    "## Interactive Graph"
   ]
  },
  {
   "cell_type": "code",
   "execution_count": 48,
   "id": "6e1c5669",
   "metadata": {
    "scrolled": true
   },
   "outputs": [
    {
     "data": {
      "application/vnd.jupyter.widget-view+json": {
       "model_id": "81f3aed007644169acbc07a374adb166",
       "version_major": 2,
       "version_minor": 0
      },
      "text/plain": [
       "interactive(children=(IntSlider(value=45, description='angle', max=60, step=5), Output()), _dom_classes=('widg…"
      ]
     },
     "metadata": {},
     "output_type": "display_data"
    }
   ],
   "source": [
    "origin=np.array([[0], [0]])\n",
    "i_hat=Vectors(x=1, y=0)\n",
    "j_hat=Vectors(x=0, y=1)\n",
    "\n",
    "def update_plot(angle):\n",
    "    \n",
    "    angle\n",
    "    shear_sin, shear_cos= np.sin(np.radians(90-angle)), np.cos(np.radians(90-angle))\n",
    "    trans_matrix=np.array([[1, 0], [shear_cos, shear_sin]]).transpose()\n",
    "\n",
    "    ax=plt.subplot()\n",
    "\n",
    "    x=np.arange(-16, 16, 2)\n",
    "    y=np.arange(-8, 9, 2)\n",
    "    max_x=max(x)\n",
    "    min_x=min(x)\n",
    "    max_y=max(y)\n",
    "    min_y=min(y)\n",
    "\n",
    "    for i in x:\n",
    "        x_i, y_i=np.matmul(trans_matrix, np.array([[i, i], [min_y, max_y]]))\n",
    "        ax.plot(x_i, y_i, color='blue', linewidth=0.5, zorder=0)\n",
    "        ax.plot([i, i], [min(y), max(y)], color='lightgray', linewidth=0.5, zorder=0)\n",
    "        for j in y:\n",
    "            x_j, y_j=np.matmul(trans_matrix, np.array([[min_x, max_x], [j, j]]))\n",
    "            ax.plot(x_j, y_j, color='green', linewidth=0.5, zorder=0)\n",
    "            # Plotting Points\n",
    "    #         i_ij, j_ij = np.matmul(trans_matrix, np.array([[i],[j]]))\n",
    "    #         ax.scatter(i_ij, j_ij)\n",
    "    \n",
    "    ax.quiver(*origin, *np.matmul(trans_matrix, i_hat.array), scale=1, units='xy', zorder=1)\n",
    "    ax.quiver(*origin, *np.matmul(trans_matrix, j_hat.array), scale=1, units='xy', zorder=1)\n",
    "    \n",
    "    plt.title('Linear Transformation (Shear) of '+str(angle)+'$^\\circ$ \\n')\n",
    "    plt.xlim([-7, 7])\n",
    "    plt.ylim([-4, 4])\n",
    "    ax.set_axisbelow(True)\n",
    "#   plt.grid()\n",
    "    plt.gca().set_aspect('equal')\n",
    "#     plt.axis('off')\n",
    "#     plt.savefig('VectorLinearTrans4.png', dpi=250, transparent=True)\n",
    "    plt.show()\n",
    "\n",
    "angle=widgets.IntSlider(min=0, max=60, step=5, value=45)\n",
    "interactive(update_plot, angle=angle)"
   ]
  }
 ],
 "metadata": {
  "kernelspec": {
   "display_name": "Python 3 (ipykernel)",
   "language": "python",
   "name": "python3"
  },
  "language_info": {
   "codemirror_mode": {
    "name": "ipython",
    "version": 3
   },
   "file_extension": ".py",
   "mimetype": "text/x-python",
   "name": "python",
   "nbconvert_exporter": "python",
   "pygments_lexer": "ipython3",
   "version": "3.9.7"
  }
 },
 "nbformat": 4,
 "nbformat_minor": 5
}
