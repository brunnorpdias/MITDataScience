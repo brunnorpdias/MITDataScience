{
 "cells": [
  {
   "cell_type": "code",
   "execution_count": 1,
   "id": "0b537bb8",
   "metadata": {},
   "outputs": [],
   "source": [
    "import numpy as np"
   ]
  },
  {
   "cell_type": "code",
   "execution_count": 2,
   "id": "dc6b645a",
   "metadata": {},
   "outputs": [],
   "source": [
    "from matplotlib import pyplot as plt"
   ]
  },
  {
   "cell_type": "code",
   "execution_count": 3,
   "id": "ded86449",
   "metadata": {},
   "outputs": [],
   "source": [
    "from __future__ import print_function\n",
    "from ipywidgets import interact, interactive, fixed, interact_manual\n",
    "import ipywidgets as widgets\n",
    "from IPython.display import display"
   ]
  },
  {
   "cell_type": "code",
   "execution_count": 81,
   "id": "10be5690",
   "metadata": {},
   "outputs": [
    {
     "data": {
      "application/vnd.jupyter.widget-view+json": {
       "model_id": "5297a06a4c1446a9a15e56f52bce5f4b",
       "version_major": 2,
       "version_minor": 0
      },
      "text/plain": [
       "interactive(children=(IntSlider(value=0, description='Angle', max=180, min=-180, step=9), FloatSlider(value=1.…"
      ]
     },
     "metadata": {},
     "output_type": "display_data"
    }
   ],
   "source": [
    "initial_angle=0\n",
    "x=np.arange(-3, 3, 0.1)\n",
    "\n",
    "def update_plot(alpha, dist, direction):\n",
    "    fig, ax = plt.subplots()\n",
    "    \n",
    "    tg=np.tan(np.radians(alpha))\n",
    "    sn=np.sin(np.radians(90-alpha))\n",
    "    co=np.cos(np.radians(90-alpha))\n",
    "    \n",
    "    y1=x*tg + 0\n",
    "    y2=(x+dist*co)*tg + dist*sn\n",
    "    y3=(x-dist*co)*tg - dist*sn\n",
    "\n",
    "    x_pos = [0]\n",
    "    y_pos = [0]\n",
    "    x_direct = [-direction*co]\n",
    "    y_direct = [direction*sn]\n",
    "    ax.quiver(x_pos,y_pos,x_direct,y_direct,scale=9, color='red')\n",
    "\n",
    "    ax.plot(x, y1, linestyle='-', linewidth=2, color='black')\n",
    "    ax.plot(x, y2, linestyle='--', linewidth=1, color='black')\n",
    "    ax.plot(x, y3, linestyle='--', linewidth=1, color='black')\n",
    "    ax.set_aspect('equal')\n",
    "    ax.set(xlim=(-1.5,1.5), ylim=(-1.5,1.5))\n",
    "\n",
    "    plt.show()\n",
    "    \n",
    "angle=widgets.IntSlider(min=-180, max=+180, step=9, value=initial_angle, description='Angle')\n",
    "distance=widgets.FloatSlider(min=0, max=1.5, step=0.1, value=1, description='Distance')\n",
    "direction=widgets.IntSlider(min=-1, max=1, step=1, description='Direction')\n",
    "\n",
    "interactive(update_plot, alpha=angle, dist=distance, direction=direction)\n"
   ]
  }
 ],
 "metadata": {
  "kernelspec": {
   "display_name": "Python 3 (ipykernel)",
   "language": "python",
   "name": "python3"
  },
  "language_info": {
   "codemirror_mode": {
    "name": "ipython",
    "version": 3
   },
   "file_extension": ".py",
   "mimetype": "text/x-python",
   "name": "python",
   "nbconvert_exporter": "python",
   "pygments_lexer": "ipython3",
   "version": "3.9.5"
  }
 },
 "nbformat": 4,
 "nbformat_minor": 5
}
