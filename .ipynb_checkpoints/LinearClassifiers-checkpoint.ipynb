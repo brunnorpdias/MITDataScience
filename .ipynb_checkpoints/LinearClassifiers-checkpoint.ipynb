{
 "cells": [
  {
   "cell_type": "code",
   "execution_count": 14,
   "id": "0b537bb8",
   "metadata": {},
   "outputs": [],
   "source": [
    "import numpy as np"
   ]
  },
  {
   "cell_type": "code",
   "execution_count": 15,
   "id": "dc6b645a",
   "metadata": {},
   "outputs": [],
   "source": [
    "from matplotlib import pyplot as plt"
   ]
  },
  {
   "cell_type": "code",
   "execution_count": 16,
   "id": "ded86449",
   "metadata": {},
   "outputs": [],
   "source": [
    "from __future__ import print_function\n",
    "from ipywidgets import interact, interactive, fixed, interact_manual\n",
    "import ipywidgets as widgets\n",
    "from IPython.display import display"
   ]
  },
  {
   "cell_type": "code",
   "execution_count": 94,
   "id": "6c24ad73",
   "metadata": {},
   "outputs": [
    {
     "data": {
      "application/vnd.jupyter.widget-view+json": {
       "model_id": "8dd4fb0ba08146ad96653eaa39d02714",
       "version_major": 2,
       "version_minor": 0
      },
      "text/plain": [
       "interactive(children=(IntSlider(value=0, description='Angle', max=180, min=-180, step=9), Output()), _dom_clas…"
      ]
     },
     "metadata": {},
     "output_type": "display_data"
    }
   ],
   "source": [
    "def f(alpha):\n",
    "    return alpha\n",
    "\n"
   ]
  },
  {
   "cell_type": "code",
   "execution_count": 95,
   "id": "5580e0be",
   "metadata": {},
   "outputs": [
    {
     "data": {
      "text/plain": [
       "0"
      ]
     },
     "execution_count": 95,
     "metadata": {},
     "output_type": "execute_result"
    }
   ],
   "source": [
    "t.kwargs['alpha']"
   ]
  },
  {
   "cell_type": "code",
   "execution_count": 125,
   "id": "10be5690",
   "metadata": {},
   "outputs": [
    {
     "data": {
      "application/vnd.jupyter.widget-view+json": {
       "model_id": "db4afd004f304b15a0b9d190e67d0d88",
       "version_major": 2,
       "version_minor": 0
      },
      "text/plain": [
       "interactive(children=(IntSlider(value=180, description='Angle', max=180, min=-180, step=9), Output()), _dom_cl…"
      ]
     },
     "metadata": {},
     "output_type": "display_data"
    }
   ],
   "source": [
    "dist=1 #Distance between the lines\n",
    "fig, ax = plt.subplots()\n",
    "\n",
    "def update_plot(alpha):\n",
    "    ax.clear()\n",
    "    x=np.arange(-3, 3, 0.1)\n",
    "    y1=np.tan(np.radians(alpha))*x + 0\n",
    "    y2=np.tan(np.radians(alpha))*(x+dist*np.cos(np.radians(90-alpha))) + dist*np.sin(np.radians(90-alpha))\n",
    "    y3=np.tan(np.radians(alpha))*(x+dist*np.cos(np.radians(270-alpha))) + dist*np.sin(np.radians(270-alpha))\n",
    "\n",
    "    x_pos = [0]\n",
    "    y_pos = [0]\n",
    "    x_direct = [np.cos((alpha-90)/180*np.pi)]\n",
    "    y_direct = [np.sin((alpha-90)/180*np.pi)]\n",
    "    ax.quiver(x_pos,y_pos,x_direct,y_direct,scale=10, color='red')\n",
    "\n",
    "    ax.plot(x, y1, linestyle='-', linewidth=2, color='black')\n",
    "    ax.plot(x, y2, linestyle='--', linewidth=1, color='black')\n",
    "    ax.plot(x, y3, linestyle='--', linewidth=1, color='black')\n",
    "    ax.set_aspect('equal')\n",
    "    ax.set(xlim=(-1.5,1.5), ylim=(-1.5,1.5))\n",
    "\n",
    "    plt.show()\n",
    "    print(alpha)\n",
    "    \n",
    "angle=widgets.IntSlider(min=-180, max=+180, step=9, value=180, description='Angle')\n",
    "interactive(update_plot, alpha=angle)"
   ]
  }
 ],
 "metadata": {
  "kernelspec": {
   "display_name": "Python 3 (ipykernel)",
   "language": "python",
   "name": "python3"
  },
  "language_info": {
   "codemirror_mode": {
    "name": "ipython",
    "version": 3
   },
   "file_extension": ".py",
   "mimetype": "text/x-python",
   "name": "python",
   "nbconvert_exporter": "python",
   "pygments_lexer": "ipython3",
   "version": "3.9.5"
  }
 },
 "nbformat": 4,
 "nbformat_minor": 5
}
