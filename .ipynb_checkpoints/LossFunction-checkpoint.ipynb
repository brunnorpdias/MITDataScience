{
 "cells": [
  {
   "cell_type": "markdown",
   "id": "eb8e8f8a",
   "metadata": {},
   "source": [
    "# Import"
   ]
  },
  {
   "cell_type": "code",
   "execution_count": 150,
   "id": "a6059ef1",
   "metadata": {},
   "outputs": [],
   "source": [
    "import numpy as np\n",
    "from matplotlib import pyplot as plt"
   ]
  },
  {
   "cell_type": "markdown",
   "id": "9ecbb58d",
   "metadata": {},
   "source": [
    "# Data"
   ]
  },
  {
   "cell_type": "code",
   "execution_count": 151,
   "id": "ba73f01b",
   "metadata": {},
   "outputs": [],
   "source": [
    "x=np.linspace(0,10,100)\n",
    "\n",
    "def f(x):\n",
    "    return x*1.1+3\n",
    "\n",
    "y=f(x)\n",
    "\n",
    "p1=np.array([1, 5])\n",
    "p2=np.array([1.9, 4])\n",
    "p3=np.array([2.8, 7.2])\n",
    "p4=np.array([4.1, 10])\n",
    "p5=np.array([5, 9.2])\n",
    "p6=np.array([5.8, 6.2])\n",
    "p7=np.array([7, 11.6])\n",
    "p8=np.array([8.2, 13.6])\n",
    "p9=np.array([8.5, 10])"
   ]
  },
  {
   "cell_type": "markdown",
   "id": "103aec07",
   "metadata": {},
   "source": [
    "# Plot"
   ]
  },
  {
   "cell_type": "code",
   "execution_count": 155,
   "id": "e8e15655",
   "metadata": {},
   "outputs": [
    {
     "data": {
      "image/png": "[encoded data removed]",
      "text/plain": [
       "<Figure size 432x288 with 1 Axes>"
      ]
     },
     "metadata": {
      "needs_background": "light"
     },
     "output_type": "display_data"
    }
   ],
   "source": [
    "# Plot Configs\n",
    "ax=plt.subplot()\n",
    "ax.set(xlim=[0,10], ylim=[0,16])\n",
    "\n",
    "# Plot function\n",
    "ax.plot(x, y, color='black')\n",
    "\n",
    "# Plot points\n",
    "ax.scatter(p1[0], p1[1], color='blue')\n",
    "ax.scatter(p2[0], p2[1], color='blue')\n",
    "ax.scatter(p3[0], p3[1], color='blue')\n",
    "ax.scatter(p4[0], p4[1], color='blue')\n",
    "ax.scatter(p5[0], p5[1], color='blue')\n",
    "ax.scatter(p6[0], p6[1], color='blue')\n",
    "ax.scatter(p7[0], p7[1], color='blue')\n",
    "ax.scatter(p8[0], p8[1], color='blue')\n",
    "ax.scatter(p9[0], p9[1], color='blue')\n",
    "\n",
    "# Plot Text\n",
    "ax.text(6, 7.5, 'Horizontal Distance')\n",
    "\n",
    "# Plot Distances\n",
    "ax.plot([p1[0], p1[0]], [p1[1], f(p1[0])], 'k--')\n",
    "ax.plot([p2[0], p2[0]], [p2[1], f(p2[0])], 'k--')\n",
    "ax.plot([p3[0], p3[0]], [p3[1], f(p3[0])], 'k--')\n",
    "ax.plot([p4[0], p4[0]], [p4[1], f(p4[0])], 'k--')\n",
    "ax.plot([p5[0], p5[0]], [p5[1], f(p5[0])], 'k--')\n",
    "ax.plot([p6[0], p6[0]], [p6[1], f(p6[0])], 'k--')\n",
    "ax.plot([p7[0], p7[0]], [p7[1], f(p7[0])], 'k--')\n",
    "ax.plot([p8[0], p8[0]], [p8[1], f(p8[0])], 'k--')\n",
    "ax.plot([p9[0], p9[0]], [p9[1], f(p9[0])], 'k--')\n",
    "\n",
    "plt.show()"
   ]
  },
  {
   "cell_type": "markdown",
   "id": "1c9bf34a",
   "metadata": {},
   "source": [
    "# Loss Function"
   ]
  },
  {
   "cell_type": "code",
   "execution_count": 156,
   "id": "96fcafc8",
   "metadata": {},
   "outputs": [],
   "source": [
    "def Loss(points, f):\n",
    "    sum=0\n",
    "    for i in points:\n",
    "        sum+=abs(i[1]-f(i[0]))\n",
    "    return sum/len(points)"
   ]
  },
  {
   "cell_type": "code",
   "execution_count": 157,
   "id": "a1d61743",
   "metadata": {},
   "outputs": [
    {
     "data": {
      "text/plain": [
       "1.5899999999999999"
      ]
     },
     "execution_count": 157,
     "metadata": {},
     "output_type": "execute_result"
    }
   ],
   "source": [
    "points=[p1, p2, p3, p4, p5, p6, p7, p8, p9]\n",
    "\n",
    "Loss(points, f)"
   ]
  },
  {
   "cell_type": "code",
   "execution_count": 158,
   "id": "af66beb4",
   "metadata": {},
   "outputs": [
    {
     "data": {
      "text/plain": [
       "4.326666666666666"
      ]
     },
     "execution_count": 158,
     "metadata": {},
     "output_type": "execute_result"
    }
   ],
   "source": [
    "def g(x):\n",
    "    return 1.8*x+4\n",
    "\n",
    "Loss(points, g)"
   ]
  }
 ],
 "metadata": {
  "kernelspec": {
   "display_name": "Python 3 (ipykernel)",
   "language": "python",
   "name": "python3"
  },
  "language_info": {
   "codemirror_mode": {
    "name": "ipython",
    "version": 3
   },
   "file_extension": ".py",
   "mimetype": "text/x-python",
   "name": "python",
   "nbconvert_exporter": "python",
   "pygments_lexer": "ipython3",
   "version": "3.9.7"
  }
 },
 "nbformat": 4,
 "nbformat_minor": 5
}
