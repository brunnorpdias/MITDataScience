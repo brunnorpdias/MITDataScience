{
 "cells": [
  {
   "cell_type": "code",
   "execution_count": 1,
   "id": "9101b430",
   "metadata": {},
   "outputs": [],
   "source": [
    "from matplotlib import pyplot as plt\n",
    "from matplotlib import rcParams\n",
    "import numpy as np"
   ]
  },
  {
   "cell_type": "code",
   "execution_count": 22,
   "id": "df964a67",
   "metadata": {},
   "outputs": [
    {
     "data": {
      "image/png": "[encoded data removed]",
      "text/plain": [
       "<Figure size 432x288 with 1 Axes>"
      ]
     },
     "metadata": {
      "needs_background": "light"
     },
     "output_type": "display_data"
    }
   ],
   "source": [
    "t_hat=np.array([[4], [2.5]])\n",
    "origin=np.array([[0], [0]])\n",
    "\n",
    "ax=plt.subplot()\n",
    "ax.quiver(*origin, *t_hat, scale=1, units='xy', color='green')\n",
    "ax.text(t_hat[0][0]+0.1, t_hat[1][0]-0.1, r\"$\\vec v$\", color='green', size=14)\n",
    "plt.xlim([0, 6])\n",
    "plt.ylim([0, 3])\n",
    "plt.grid()\n",
    "ax.set_axisbelow(True)\n",
    "plt.gca().set_aspect('equal')\n",
    "plt.savefig('vector.png', dpi=250)"
   ]
  }
 ],
 "metadata": {
  "kernelspec": {
   "display_name": "Python 3 (ipykernel)",
   "language": "python",
   "name": "python3"
  },
  "language_info": {
   "codemirror_mode": {
    "name": "ipython",
    "version": 3
   },
   "file_extension": ".py",
   "mimetype": "text/x-python",
   "name": "python",
   "nbconvert_exporter": "python",
   "pygments_lexer": "ipython3",
   "version": "3.9.7"
  }
 },
 "nbformat": 4,
 "nbformat_minor": 5
}
