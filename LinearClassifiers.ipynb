{
 "cells": [
  {
   "cell_type": "code",
   "execution_count": 1,
   "id": "0b537bb8",
   "metadata": {},
   "outputs": [],
   "source": [
    "import numpy as np"
   ]
  },
  {
   "cell_type": "code",
   "execution_count": 3,
   "id": "dc6b645a",
   "metadata": {},
   "outputs": [],
   "source": [
    "from matplotlib import pyplot as plt"
   ]
  },
  {
   "cell_type": "code",
   "execution_count": 4,
   "id": "1fc7c986",
   "metadata": {},
   "outputs": [
    {
     "data": {
      "image/png": "[encoded data removed]",
      "text/plain": [
       "<Figure size 432x288 with 1 Axes>"
      ]
     },
     "metadata": {
      "needs_background": "light"
     },
     "output_type": "display_data"
    }
   ],
   "source": [
    "fig, ax = plt.subplots()\n",
    "\n",
    "alpha=45\n",
    "dist=1 #Distance between the lines\n",
    "\n",
    "def rad (degree):\n",
    "    return degree/180*np.pi\n",
    "\n",
    "x=np.arange(-1, 1, 0.1)\n",
    "y1=np.tan(rad(alpha))*x + 0\n",
    "y2=np.tan(rad(alpha))*(x-dist*np.sin(rad(alpha))) + dist*np.cos(rad(alpha))\n",
    "y3=np.tan(rad(alpha))*(x+dist*np.sin(rad(alpha+180))) + dist*np.cos(rad(alpha+180))\n",
    "\n",
    "x_pos = [0]\n",
    "y_pos = [0]\n",
    "x_direct = [np.cos((alpha-90)/180*np.pi)]\n",
    "y_direct = [np.sin((alpha-90)/180*np.pi)]\n",
    "ax.quiver(x_pos,y_pos,x_direct,y_direct,scale=5)\n",
    "\n",
    "ax.plot(x, y1, linestyle='-', linewidth=2, color='black')\n",
    "ax.plot(x, y2, linestyle='--', linewidth=1, color='blue')\n",
    "ax.plot(x, y3, linestyle='--', linewidth=1, color='red')\n",
    "ax.set_aspect('equal')\n",
    "ax.set(xlim=(-1.5,1.5), ylim=(-1.5,1.5))\n",
    "\n",
    "plt.show()"
   ]
  },
  {
   "cell_type": "code",
   "execution_count": null,
   "id": "eba9bca3",
   "metadata": {},
   "outputs": [],
   "source": []
  }
 ],
 "metadata": {
  "kernelspec": {
   "display_name": "Python 3 (ipykernel)",
   "language": "python",
   "name": "python3"
  },
  "language_info": {
   "codemirror_mode": {
    "name": "ipython",
    "version": 3
   },
   "file_extension": ".py",
   "mimetype": "text/x-python",
   "name": "python",
   "nbconvert_exporter": "python",
   "pygments_lexer": "ipython3",
   "version": "3.9.5"
  }
 },
 "nbformat": 4,
 "nbformat_minor": 5
}
