{
 "cells": [
  {
   "cell_type": "code",
   "execution_count": 1,
   "id": "0b537bb8",
   "metadata": {},
   "outputs": [],
   "source": [
    "import numpy as np"
   ]
  },
  {
   "cell_type": "code",
   "execution_count": 2,
   "id": "dc6b645a",
   "metadata": {},
   "outputs": [],
   "source": [
    "from matplotlib import pyplot as plt"
   ]
  },
  {
   "cell_type": "code",
   "execution_count": 3,
   "id": "ded86449",
   "metadata": {},
   "outputs": [],
   "source": [
    "from __future__ import print_function\n",
    "from ipywidgets import interact, interactive, fixed, interact_manual\n",
    "import ipywidgets as widgets\n",
    "from IPython.display import display"
   ]
  },
  {
   "cell_type": "code",
   "execution_count": 19,
   "id": "10be5690",
   "metadata": {},
   "outputs": [
    {
     "data": {
      "application/vnd.jupyter.widget-view+json": {
       "model_id": "c92d90e5ba3541deb6fd72cc244046ba",
       "version_major": 2,
       "version_minor": 0
      },
      "text/plain": [
       "interactive(children=(IntSlider(value=-99, description='Angle', max=180, min=-180, step=9), FloatSlider(value=…"
      ]
     },
     "metadata": {},
     "output_type": "display_data"
    }
   ],
   "source": [
    "x=np.arange(-3, 3, 0.1)\n",
    "\n",
    "def update_plot(alpha, dist, direction):\n",
    "    fig, ax = plt.subplots()\n",
    "    ax.set_aspect('equal')\n",
    "    ax.set(xlim=(-1.5,1.5), ylim=(-1.5,1.5))\n",
    "    \n",
    "    tg=np.tan(np.radians(alpha))\n",
    "    sn=np.sin(np.radians(90-alpha))\n",
    "    co=np.cos(np.radians(90-alpha))\n",
    "    \n",
    "    y1=x*tg + 0\n",
    "    y2=(x+dist*co)*tg + dist*sn\n",
    "    y3=(x-dist*co)*tg - dist*sn\n",
    "\n",
    "    x_pos = [0]\n",
    "    y_pos = [0]\n",
    "    x_direct = [-direction*co]\n",
    "    y_direct = [direction*sn]\n",
    "    ax.quiver(x_pos,y_pos,x_direct,y_direct,scale=9, color='red')\n",
    "\n",
    "    ax.plot(x, y1, linestyle='-', linewidth=2, color='black')\n",
    "    ax.plot(x, y2, linestyle='--', linewidth=1, color='black')\n",
    "    ax.plot(x, y3, linestyle='--', linewidth=1, color='black')\n",
    "    ax.scatter(1, 1, color='red')\n",
    "    ax.scatter(0.5, -1.2, color='red')\n",
    "    ax.scatter(0.8, 0.2, color='red')\n",
    "    ax.scatter(-0.75, -0.3, color='blue')\n",
    "    ax.scatter(-1.35, 1.4, color='blue')\n",
    "    ax.scatter(-1.3, -1.3, color='blue')\n",
    "    \n",
    "    plt.show()\n",
    "    \n",
    "angle=widgets.IntSlider(min=-180, max=+180, step=9, value=-99, description='Angle')\n",
    "distance=widgets.FloatSlider(min=0, max=1.5, step=0.15, value=0.60, description='Distance')\n",
    "direction=widgets.IntSlider(min=-1, max=1, step=1, value=1, description='Direction')\n",
    "\n",
    "interactive(update_plot, alpha=angle, dist=distance, direction=direction)\n"
   ]
  }
 ],
 "metadata": {
  "kernelspec": {
   "display_name": "Python 3 (ipykernel)",
   "language": "python",
   "name": "python3"
  },
  "language_info": {
   "codemirror_mode": {
    "name": "ipython",
    "version": 3
   },
   "file_extension": ".py",
   "mimetype": "text/x-python",
   "name": "python",
   "nbconvert_exporter": "python",
   "pygments_lexer": "ipython3",
   "version": "3.9.7"
  }
 },
 "nbformat": 4,
 "nbformat_minor": 5
}
