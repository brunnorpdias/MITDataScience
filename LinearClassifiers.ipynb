{
 "cells": [
  {
   "cell_type": "markdown",
   "id": "b0f8fa31",
   "metadata": {},
   "source": [
    "# Setup"
   ]
  },
  {
   "cell_type": "code",
   "execution_count": 4,
   "id": "0b537bb8",
   "metadata": {},
   "outputs": [],
   "source": [
    "import numpy as np\n",
    "from matplotlib import pyplot as plt\n",
    "from __future__ import print_function\n",
    "from ipywidgets import interact, interactive, fixed, interact_manual\n",
    "import ipywidgets as widgets\n",
    "from IPython.display import display"
   ]
  },
  {
   "cell_type": "markdown",
   "id": "9525ec29",
   "metadata": {},
   "source": [
    "# Linear Classifier"
   ]
  },
  {
   "cell_type": "code",
   "execution_count": 5,
   "id": "10be5690",
   "metadata": {},
   "outputs": [
    {
     "data": {
      "application/vnd.jupyter.widget-view+json": {
       "model_id": "3929ea7f724242378c01bf7180c7f358",
       "version_major": 2,
       "version_minor": 0
      },
      "text/plain": [
       "interactive(children=(IntSlider(value=-99, description='Angle', max=180, min=-180, step=9), FloatSlider(value=…"
      ]
     },
     "metadata": {},
     "output_type": "display_data"
    }
   ],
   "source": [
    "x=np.arange(-3, 3, 0.1)\n",
    "\n",
    "def update_plot(alpha, dist, direction):\n",
    "    fig, ax = plt.subplots()\n",
    "    ax.set_aspect('equal')\n",
    "    ax.set(xlim=(-1.5,1.5), ylim=(-1.5,1.5))\n",
    "    \n",
    "    tg=np.tan(np.radians(alpha))\n",
    "    sn=np.sin(np.radians(90-alpha))\n",
    "    co=np.cos(np.radians(90-alpha))\n",
    "    \n",
    "    y1=x*tg + 0\n",
    "    y2=(x+dist*co)*tg + dist*sn\n",
    "    y3=(x-dist*co)*tg - dist*sn\n",
    "\n",
    "    x_pos = [0]\n",
    "    y_pos = [0]\n",
    "    x_direct = [-direction*co]\n",
    "    y_direct = [direction*sn]\n",
    "    ax.quiver(x_pos,y_pos,x_direct,y_direct,scale=9, color='red')\n",
    "\n",
    "    ax.plot(x, y1, linestyle='-', linewidth=2, color='black')\n",
    "    ax.plot(x, y2, linestyle='--', linewidth=1, color='black')\n",
    "    ax.plot(x, y3, linestyle='--', linewidth=1, color='black')\n",
    "    ax.scatter(1, 1, color='red')\n",
    "    ax.scatter(0.5, -1.2, color='red')\n",
    "    ax.scatter(0.8, 0.2, color='red')\n",
    "    ax.scatter(-0.75, -0.3, color='blue')\n",
    "    ax.scatter(-1.35, 1.4, color='blue')\n",
    "    ax.scatter(-1.3, -1.3, color='blue')\n",
    "    \n",
    "    plt.show()\n",
    "    \n",
    "angle=widgets.IntSlider(min=-180, max=+180, step=9, value=-99, description='Angle')\n",
    "distance=widgets.FloatSlider(min=0, max=1.5, step=0.15, value=0.60, description='Distance')\n",
    "direction=widgets.IntSlider(min=-1, max=1, step=1, value=1, description='Direction')\n",
    "\n",
    "interactive(update_plot, alpha=angle, dist=distance, direction=direction)\n"
   ]
  },
  {
   "cell_type": "markdown",
   "id": "b659fe9d",
   "metadata": {},
   "source": [
    "# smt"
   ]
  },
  {
   "cell_type": "code",
   "execution_count": 80,
   "id": "6961bdc9",
   "metadata": {},
   "outputs": [
    {
     "data": {
      "image/png": "[encoded data removed]",
      "text/plain": [
       "<Figure size 432x288 with 1 Axes>"
      ]
     },
     "metadata": {
      "needs_background": "light"
     },
     "output_type": "display_data"
    }
   ],
   "source": [
    "x=np.linspace(0.1, 20, 50)\n",
    "y1=10/x\n",
    "y2=0.1*(x-10)**2+2\n",
    "\n",
    "ax=plt.subplot()\n",
    "ax.plot(x, y1, '#0000ff')\n",
    "ax.plot(x, y2, '#ff6800')\n",
    "ax.text(16, 4.5, 'Test', size=12, color='#ff6800')\n",
    "ax.text(16, 1, 'Training', size=12, color='#0000ff')\n",
    "ax.plot([10, 10], [0, 10], 'k--')\n",
    "ax.text(5, 8, 'Underfitting', size=12)\n",
    "ax.text(11, 8, 'Overfitting', size=12)\n",
    "\n",
    "ax.set(xlim=[1, 20], ylim=[0, 10]);\n",
    "ax.set(xlabel='c', ylabel='Loss/Error')\n",
    "plt.title(r'Lambda Parameter')\n",
    "plt.gca().set_aspect('equal')\n",
    "# plt.savefig('lambda_parameter.png', transparent=True, dpi=250)"
   ]
  }
 ],
 "metadata": {
  "kernelspec": {
   "display_name": "Python 3 (ipykernel)",
   "language": "python",
   "name": "python3"
  },
  "language_info": {
   "codemirror_mode": {
    "name": "ipython",
    "version": 3
   },
   "file_extension": ".py",
   "mimetype": "text/x-python",
   "name": "python",
   "nbconvert_exporter": "python",
   "pygments_lexer": "ipython3",
   "version": "3.9.7"
  }
 },
 "nbformat": 4,
 "nbformat_minor": 5
}
